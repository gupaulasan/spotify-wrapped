{
 "cells": [
  {
   "cell_type": "code",
   "execution_count": 1,
   "metadata": {},
   "outputs": [
    {
     "data": {
      "text/plain": [
       "'/Users/gustavosantos/code/spotify-wrapped'"
      ]
     },
     "execution_count": 1,
     "metadata": {},
     "output_type": "execute_result"
    }
   ],
   "source": [
    "import autorootcwd  # noqa\n",
    "\n",
    "import json\n",
    "import os\n",
    "import pandas as pd\n",
    "\n",
    "\n",
    "os.getcwd()"
   ]
  },
  {
   "cell_type": "code",
   "execution_count": 2,
   "metadata": {},
   "outputs": [
    {
     "name": "stdout",
     "output_type": "stream",
     "text": [
      "Number of rows in 2023-2024 data: 16043\n",
      "Number of rows in 2024-2025 data: 9038\n",
      "Number of rows in combined data: 25081\n"
     ]
    }
   ],
   "source": [
    "with open(\"data/Streaming_History_Audio_2023-2024_8.json\") as file:\n",
    "    data_2324 = json.load(file)\n",
    "\n",
    "with open(\"data/Streaming_History_Audio_2024-2025_9.json\") as file:\n",
    "    data_2425 = json.load(file)\n",
    "\n",
    "df_2324 = pd.DataFrame(data_2324)\n",
    "df_2425 = pd.DataFrame(data_2425)\n",
    "\n",
    "df_complete = pd.concat([df_2324, df_2425]).reset_index(drop=True)\n",
    "\n",
    "print(\"Number of rows in 2023-2024 data:\", len(df_2324))\n",
    "print(\"Number of rows in 2024-2025 data:\", len(df_2425))\n",
    "print(\"Number of rows in combined data:\", len(df_complete))"
   ]
  },
  {
   "cell_type": "code",
   "execution_count": 4,
   "metadata": {},
   "outputs": [
    {
     "name": "stdout",
     "output_type": "stream",
     "text": [
      "2023-02-24T19:14:05Z\n"
     ]
    }
   ],
   "source": [
    "print(data_2324[0][\"ts\"])"
   ]
  },
  {
   "cell_type": "code",
   "execution_count": 4,
   "metadata": {},
   "outputs": [],
   "source": [
    "df_2024 = df_complete[df_complete[\"ts\"].str.contains(\"2024\")].reset_index(drop=True)"
   ]
  },
  {
   "cell_type": "code",
   "execution_count": 5,
   "metadata": {},
   "outputs": [],
   "source": [
    "df_2024[\"ts\"] = pd.to_datetime(df_2024[\"ts\"])\n",
    "df_2024[\"date\"] = df_2024[\"ts\"].dt.date"
   ]
  },
  {
   "cell_type": "code",
   "execution_count": 6,
   "metadata": {},
   "outputs": [],
   "source": [
    "df_subset = df_2024[df_2024[\"ts\"].between(\"2024-01-01\", \"2024-01-07\")].reset_index(\n",
    "    drop=True\n",
    ")"
   ]
  },
  {
   "cell_type": "code",
   "execution_count": 7,
   "metadata": {},
   "outputs": [
    {
     "data": {
      "text/plain": [
       "Index(['ts', 'platform', 'ms_played', 'conn_country', 'ip_addr',\n",
       "       'master_metadata_track_name', 'master_metadata_album_artist_name',\n",
       "       'master_metadata_album_album_name', 'spotify_track_uri', 'episode_name',\n",
       "       'episode_show_name', 'spotify_episode_uri', 'audiobook_title',\n",
       "       'audiobook_uri', 'audiobook_chapter_uri', 'audiobook_chapter_title',\n",
       "       'reason_start', 'reason_end', 'shuffle', 'skipped', 'offline',\n",
       "       'offline_timestamp', 'incognito_mode', 'date'],\n",
       "      dtype='object')"
      ]
     },
     "execution_count": 7,
     "metadata": {},
     "output_type": "execute_result"
    }
   ],
   "source": [
    "df_subset.columns"
   ]
  },
  {
   "cell_type": "code",
   "execution_count": 8,
   "metadata": {},
   "outputs": [],
   "source": [
    "df_subset[\"cum_plays\"] = df_subset.reset_index(drop=False)[\"index\"] + 1"
   ]
  },
  {
   "cell_type": "code",
   "execution_count": 9,
   "metadata": {},
   "outputs": [
    {
     "data": {
      "text/plain": [
       "ts\n",
       "2024-01-02     57\n",
       "2024-01-03     68\n",
       "2024-01-04     93\n",
       "2024-01-05    112\n",
       "Name: cum_plays, dtype: int64"
      ]
     },
     "execution_count": 9,
     "metadata": {},
     "output_type": "execute_result"
    }
   ],
   "source": [
    "df_subset.groupby(df_subset[\"ts\"].dt.date)[\"cum_plays\"].max()"
   ]
  }
 ],
 "metadata": {
  "kernelspec": {
   "display_name": ".venv",
   "language": "python",
   "name": "python3"
  },
  "language_info": {
   "codemirror_mode": {
    "name": "ipython",
    "version": 3
   },
   "file_extension": ".py",
   "mimetype": "text/x-python",
   "name": "python",
   "nbconvert_exporter": "python",
   "pygments_lexer": "ipython3",
   "version": "3.12.7"
  }
 },
 "nbformat": 4,
 "nbformat_minor": 2
}
