{
 "cells": [
  {
   "cell_type": "code",
   "execution_count": 1,
   "metadata": {},
   "outputs": [
    {
     "data": {
      "text/plain": [
       "'/Users/gustavosantos/code/spotify-wrapped'"
      ]
     },
     "execution_count": 1,
     "metadata": {},
     "output_type": "execute_result"
    }
   ],
   "source": [
    "import autorootcwd  # noqa\n",
    "\n",
    "import json\n",
    "import os\n",
    "import pandas as pd\n",
    "\n",
    "\n",
    "os.getcwd()"
   ]
  },
  {
   "cell_type": "code",
   "execution_count": 2,
   "metadata": {},
   "outputs": [
    {
     "name": "stdout",
     "output_type": "stream",
     "text": [
      "Number of rows in 2023-2024 data: 16043\n",
      "Number of rows in 2024-2025 data: 9038\n",
      "Number of rows in combined data: 25081\n"
     ]
    }
   ],
   "source": [
    "with open(\"data/Streaming_History_Audio_2023-2024_8.json\") as file:\n",
    "    data_2324 = json.load(file)\n",
    "\n",
    "with open(\"data/Streaming_History_Audio_2024-2025_9.json\") as file:\n",
    "    data_2425 = json.load(file)\n",
    "\n",
    "df_2324 = pd.DataFrame(data_2324)\n",
    "df_2425 = pd.DataFrame(data_2425)\n",
    "\n",
    "df_complete = pd.concat([df_2324, df_2425]).reset_index(drop=True)\n",
    "\n",
    "print(\"Number of rows in 2023-2024 data:\", len(df_2324))\n",
    "print(\"Number of rows in 2024-2025 data:\", len(df_2425))\n",
    "print(\"Number of rows in combined data:\", len(df_complete))"
   ]
  },
  {
   "cell_type": "code",
   "execution_count": 3,
   "metadata": {},
   "outputs": [
    {
     "name": "stdout",
     "output_type": "stream",
     "text": [
      "2023-02-24T19:14:05Z\n"
     ]
    }
   ],
   "source": [
    "print(data_2324[0][\"ts\"])"
   ]
  },
  {
   "cell_type": "code",
   "execution_count": 4,
   "metadata": {},
   "outputs": [],
   "source": [
    "df_2024 = df_complete[df_complete[\"ts\"].str.contains(\"2024\")].reset_index(drop=True)"
   ]
  },
  {
   "cell_type": "code",
   "execution_count": 5,
   "metadata": {},
   "outputs": [],
   "source": [
    "df_2024[\"ts\"] = pd.to_datetime(df_2024[\"ts\"])\n",
    "df_2024[\"date\"] = df_2024[\"ts\"].dt.date"
   ]
  },
  {
   "cell_type": "code",
   "execution_count": 6,
   "metadata": {},
   "outputs": [],
   "source": [
    "df_subset = df_2024[df_2024[\"ts\"].between(\"2024-01-01\", \"2024-01-07\")].reset_index(\n",
    "    drop=True\n",
    ")"
   ]
  },
  {
   "cell_type": "code",
   "execution_count": 7,
   "metadata": {},
   "outputs": [
    {
     "data": {
      "text/plain": [
       "Index(['ts', 'platform', 'ms_played', 'conn_country', 'ip_addr',\n",
       "       'master_metadata_track_name', 'master_metadata_album_artist_name',\n",
       "       'master_metadata_album_album_name', 'spotify_track_uri', 'episode_name',\n",
       "       'episode_show_name', 'spotify_episode_uri', 'audiobook_title',\n",
       "       'audiobook_uri', 'audiobook_chapter_uri', 'audiobook_chapter_title',\n",
       "       'reason_start', 'reason_end', 'shuffle', 'skipped', 'offline',\n",
       "       'offline_timestamp', 'incognito_mode', 'date'],\n",
       "      dtype='object')"
      ]
     },
     "execution_count": 7,
     "metadata": {},
     "output_type": "execute_result"
    }
   ],
   "source": [
    "df_subset.columns"
   ]
  },
  {
   "cell_type": "code",
   "execution_count": 8,
   "metadata": {},
   "outputs": [],
   "source": [
    "df_subset[\"cum_plays\"] = df_subset.reset_index(drop=False)[\"index\"] + 1"
   ]
  },
  {
   "cell_type": "code",
   "execution_count": 9,
   "metadata": {},
   "outputs": [
    {
     "data": {
      "text/plain": [
       "ts\n",
       "2024-01-02     57\n",
       "2024-01-03     68\n",
       "2024-01-04     93\n",
       "2024-01-05    112\n",
       "Name: cum_plays, dtype: int64"
      ]
     },
     "execution_count": 9,
     "metadata": {},
     "output_type": "execute_result"
    }
   ],
   "source": [
    "df_subset.groupby(df_subset[\"ts\"].dt.date)[\"cum_plays\"].max()"
   ]
  },
  {
   "cell_type": "code",
   "execution_count": 11,
   "metadata": {},
   "outputs": [],
   "source": [
    "df_complete[\"ts\"] = pd.to_datetime(df_complete[\"ts\"])"
   ]
  },
  {
   "cell_type": "code",
   "execution_count": 15,
   "metadata": {},
   "outputs": [],
   "source": [
    "df_complete[\"year\"] = df_complete[\"ts\"].dt.year\n",
    "df_complete[\"month\"] = df_complete[\"ts\"].dt.month"
   ]
  },
  {
   "cell_type": "code",
   "execution_count": 16,
   "metadata": {},
   "outputs": [
    {
     "data": {
      "text/html": [
       "<div>\n",
       "<style scoped>\n",
       "    .dataframe tbody tr th:only-of-type {\n",
       "        vertical-align: middle;\n",
       "    }\n",
       "\n",
       "    .dataframe tbody tr th {\n",
       "        vertical-align: top;\n",
       "    }\n",
       "\n",
       "    .dataframe thead th {\n",
       "        text-align: right;\n",
       "    }\n",
       "</style>\n",
       "<table border=\"1\" class=\"dataframe\">\n",
       "  <thead>\n",
       "    <tr style=\"text-align: right;\">\n",
       "      <th></th>\n",
       "      <th>ts</th>\n",
       "      <th>platform</th>\n",
       "      <th>ms_played</th>\n",
       "      <th>conn_country</th>\n",
       "      <th>ip_addr</th>\n",
       "      <th>master_metadata_track_name</th>\n",
       "      <th>master_metadata_album_artist_name</th>\n",
       "      <th>master_metadata_album_album_name</th>\n",
       "      <th>spotify_track_uri</th>\n",
       "      <th>episode_name</th>\n",
       "      <th>...</th>\n",
       "      <th>audiobook_chapter_title</th>\n",
       "      <th>reason_start</th>\n",
       "      <th>reason_end</th>\n",
       "      <th>shuffle</th>\n",
       "      <th>skipped</th>\n",
       "      <th>offline</th>\n",
       "      <th>offline_timestamp</th>\n",
       "      <th>incognito_mode</th>\n",
       "      <th>year</th>\n",
       "      <th>month</th>\n",
       "    </tr>\n",
       "  </thead>\n",
       "  <tbody>\n",
       "    <tr>\n",
       "      <th>0</th>\n",
       "      <td>2023-02-24 19:14:05+00:00</td>\n",
       "      <td>windows</td>\n",
       "      <td>266080</td>\n",
       "      <td>BR</td>\n",
       "      <td>161.22.56.161</td>\n",
       "      <td>Doves In The Wind (feat. Kendrick Lamar)</td>\n",
       "      <td>SZA</td>\n",
       "      <td>Ctrl</td>\n",
       "      <td>spotify:track:593W4qZOwwdqF6YnimJjL6</td>\n",
       "      <td>None</td>\n",
       "      <td>...</td>\n",
       "      <td>None</td>\n",
       "      <td>trackdone</td>\n",
       "      <td>trackdone</td>\n",
       "      <td>True</td>\n",
       "      <td>False</td>\n",
       "      <td>False</td>\n",
       "      <td>1.677266e+09</td>\n",
       "      <td>False</td>\n",
       "      <td>2023</td>\n",
       "      <td>2</td>\n",
       "    </tr>\n",
       "    <tr>\n",
       "      <th>1</th>\n",
       "      <td>2023-02-24 19:16:11+00:00</td>\n",
       "      <td>windows</td>\n",
       "      <td>129288</td>\n",
       "      <td>BR</td>\n",
       "      <td>161.22.56.161</td>\n",
       "      <td>big daddy ya</td>\n",
       "      <td>Yaya Bey</td>\n",
       "      <td>Remember Your North Star</td>\n",
       "      <td>spotify:track:5LUqDKwcT3sT2yDRRmKTwd</td>\n",
       "      <td>None</td>\n",
       "      <td>...</td>\n",
       "      <td>None</td>\n",
       "      <td>trackdone</td>\n",
       "      <td>trackdone</td>\n",
       "      <td>True</td>\n",
       "      <td>False</td>\n",
       "      <td>False</td>\n",
       "      <td>1.677266e+09</td>\n",
       "      <td>False</td>\n",
       "      <td>2023</td>\n",
       "      <td>2</td>\n",
       "    </tr>\n",
       "    <tr>\n",
       "      <th>2</th>\n",
       "      <td>2023-02-24 19:19:37+00:00</td>\n",
       "      <td>windows</td>\n",
       "      <td>209454</td>\n",
       "      <td>BR</td>\n",
       "      <td>161.22.56.161</td>\n",
       "      <td>Found (feat. Brent Faiyaz)</td>\n",
       "      <td>Tems</td>\n",
       "      <td>Found (feat. Brent Faiyaz)</td>\n",
       "      <td>spotify:track:0GGfGINoVYiSFXPOjg3RHj</td>\n",
       "      <td>None</td>\n",
       "      <td>...</td>\n",
       "      <td>None</td>\n",
       "      <td>trackdone</td>\n",
       "      <td>trackdone</td>\n",
       "      <td>True</td>\n",
       "      <td>False</td>\n",
       "      <td>False</td>\n",
       "      <td>1.677266e+09</td>\n",
       "      <td>False</td>\n",
       "      <td>2023</td>\n",
       "      <td>2</td>\n",
       "    </tr>\n",
       "    <tr>\n",
       "      <th>3</th>\n",
       "      <td>2023-02-24 19:22:12+00:00</td>\n",
       "      <td>windows</td>\n",
       "      <td>157866</td>\n",
       "      <td>BR</td>\n",
       "      <td>161.22.56.161</td>\n",
       "      <td>Forgive Me</td>\n",
       "      <td>Chloe x Halle</td>\n",
       "      <td>Ungodly Hour</td>\n",
       "      <td>spotify:track:0qU3XhIH9xczYPUWV6OopS</td>\n",
       "      <td>None</td>\n",
       "      <td>...</td>\n",
       "      <td>None</td>\n",
       "      <td>trackdone</td>\n",
       "      <td>trackdone</td>\n",
       "      <td>True</td>\n",
       "      <td>False</td>\n",
       "      <td>False</td>\n",
       "      <td>1.677266e+09</td>\n",
       "      <td>False</td>\n",
       "      <td>2023</td>\n",
       "      <td>2</td>\n",
       "    </tr>\n",
       "    <tr>\n",
       "      <th>4</th>\n",
       "      <td>2023-02-24 19:24:15+00:00</td>\n",
       "      <td>windows</td>\n",
       "      <td>125973</td>\n",
       "      <td>BR</td>\n",
       "      <td>161.22.56.161</td>\n",
       "      <td>pour up</td>\n",
       "      <td>Yaya Bey</td>\n",
       "      <td>Remember Your North Star</td>\n",
       "      <td>spotify:track:0NzTOeYLPLOGFL40dOX3ho</td>\n",
       "      <td>None</td>\n",
       "      <td>...</td>\n",
       "      <td>None</td>\n",
       "      <td>trackdone</td>\n",
       "      <td>trackdone</td>\n",
       "      <td>True</td>\n",
       "      <td>False</td>\n",
       "      <td>False</td>\n",
       "      <td>1.677267e+09</td>\n",
       "      <td>False</td>\n",
       "      <td>2023</td>\n",
       "      <td>2</td>\n",
       "    </tr>\n",
       "  </tbody>\n",
       "</table>\n",
       "<p>5 rows × 25 columns</p>\n",
       "</div>"
      ],
      "text/plain": [
       "                         ts platform  ms_played conn_country        ip_addr  \\\n",
       "0 2023-02-24 19:14:05+00:00  windows     266080           BR  161.22.56.161   \n",
       "1 2023-02-24 19:16:11+00:00  windows     129288           BR  161.22.56.161   \n",
       "2 2023-02-24 19:19:37+00:00  windows     209454           BR  161.22.56.161   \n",
       "3 2023-02-24 19:22:12+00:00  windows     157866           BR  161.22.56.161   \n",
       "4 2023-02-24 19:24:15+00:00  windows     125973           BR  161.22.56.161   \n",
       "\n",
       "                 master_metadata_track_name master_metadata_album_artist_name  \\\n",
       "0  Doves In The Wind (feat. Kendrick Lamar)                               SZA   \n",
       "1                              big daddy ya                          Yaya Bey   \n",
       "2                Found (feat. Brent Faiyaz)                              Tems   \n",
       "3                                Forgive Me                     Chloe x Halle   \n",
       "4                                   pour up                          Yaya Bey   \n",
       "\n",
       "  master_metadata_album_album_name                     spotify_track_uri  \\\n",
       "0                             Ctrl  spotify:track:593W4qZOwwdqF6YnimJjL6   \n",
       "1         Remember Your North Star  spotify:track:5LUqDKwcT3sT2yDRRmKTwd   \n",
       "2       Found (feat. Brent Faiyaz)  spotify:track:0GGfGINoVYiSFXPOjg3RHj   \n",
       "3                     Ungodly Hour  spotify:track:0qU3XhIH9xczYPUWV6OopS   \n",
       "4         Remember Your North Star  spotify:track:0NzTOeYLPLOGFL40dOX3ho   \n",
       "\n",
       "  episode_name  ... audiobook_chapter_title reason_start reason_end shuffle  \\\n",
       "0         None  ...                    None    trackdone  trackdone    True   \n",
       "1         None  ...                    None    trackdone  trackdone    True   \n",
       "2         None  ...                    None    trackdone  trackdone    True   \n",
       "3         None  ...                    None    trackdone  trackdone    True   \n",
       "4         None  ...                    None    trackdone  trackdone    True   \n",
       "\n",
       "  skipped offline offline_timestamp incognito_mode  year  month  \n",
       "0   False   False      1.677266e+09          False  2023      2  \n",
       "1   False   False      1.677266e+09          False  2023      2  \n",
       "2   False   False      1.677266e+09          False  2023      2  \n",
       "3   False   False      1.677266e+09          False  2023      2  \n",
       "4   False   False      1.677267e+09          False  2023      2  \n",
       "\n",
       "[5 rows x 25 columns]"
      ]
     },
     "execution_count": 16,
     "metadata": {},
     "output_type": "execute_result"
    }
   ],
   "source": [
    "df_complete.head()"
   ]
  },
  {
   "cell_type": "code",
   "execution_count": 24,
   "metadata": {},
   "outputs": [
    {
     "data": {
      "text/plain": [
       "month\n",
       "1     150774154.0\n",
       "2     140348611.0\n",
       "3     277392154.5\n",
       "4     261730676.5\n",
       "5     247232037.0\n",
       "6     202574255.0\n",
       "7     187802811.0\n",
       "8     197396416.0\n",
       "9     179027437.0\n",
       "10    205585170.5\n",
       "11    175558733.5\n",
       "12    207260551.5\n",
       "Name: ms_played, dtype: float64"
      ]
     },
     "execution_count": 24,
     "metadata": {},
     "output_type": "execute_result"
    }
   ],
   "source": [
    "group = (\n",
    "    df_complete.groupby([\"year\", \"month\"])[\"ms_played\"]\n",
    "    .sum()\n",
    "    .reset_index(drop=False)\n",
    "    .groupby(\"month\")[\"ms_played\"]\n",
    "    .mean()\n",
    ")\n",
    "group"
   ]
  }
 ],
 "metadata": {
  "kernelspec": {
   "display_name": ".venv",
   "language": "python",
   "name": "python3"
  },
  "language_info": {
   "codemirror_mode": {
    "name": "ipython",
    "version": 3
   },
   "file_extension": ".py",
   "mimetype": "text/x-python",
   "name": "python",
   "nbconvert_exporter": "python",
   "pygments_lexer": "ipython3",
   "version": "3.12.7"
  }
 },
 "nbformat": 4,
 "nbformat_minor": 2
}
